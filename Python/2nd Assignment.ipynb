{
 "cells": [
  {
   "cell_type": "markdown",
   "id": "02b8d40e-d9ab-456c-b0de-18e9ff18f0fe",
   "metadata": {},
   "source": [
    "1. What are the two values of the Boolean data type? How do you write them?\n",
    "\n",
    "Ans:\n",
    "\n",
    "- There are 2 boolean data type.\n",
    "1. False which is also written as 0.\n",
    "2. True which is also written as 1."
   ]
  },
  {
   "cell_type": "markdown",
   "id": "caf67c85-5505-498e-9a10-883e513671b9",
   "metadata": {},
   "source": [
    "2. What are the three different types of Boolean operators?\n",
    "\n",
    "Ans :\n",
    "\n",
    "- There are 3 different type of boolean operators.\n",
    "1. and : return True if all the conditions are True\n",
    "2. or  : return True if any of the condition is True.\n",
    "3. not : it reverse the output, return False if the output is True."
   ]
  },
  {
   "cell_type": "raw",
   "id": "6afd0692-365a-4a79-ad60-8d7223eed666",
   "metadata": {},
   "source": [
    "3. Make a list of each Boolean operator's truth tables (i.e. every possible combination of Boolean values for the operator and what it evaluate ).\n",
    "\n",
    "Ans:\n",
    "\n",
    "1. and truth table\n",
    "   - Input1 | Input2  | Output\n",
    "   \n",
    "     True   | True    | True\n",
    "     \n",
    "     True   | False   | False\n",
    "     \n",
    "     False  | True    | False\n",
    "     \n",
    "     False  | False   | False\n",
    "     \n",
    "2. or truth table\n",
    "   - Input1 | Input2  | Output\n",
    "   \n",
    "     True   | True    | True\n",
    "     \n",
    "     True   | False   | True\n",
    "     \n",
    "     False  | True    | True\n",
    "     \n",
    "     False  | False   | False\n",
    "     \n",
    "3. not truth table\n",
    "   - Input  | Output\n",
    "   \n",
    "     True   | False\n",
    "     \n",
    "     False  | True  "
   ]
  },
  {
   "cell_type": "raw",
   "id": "870046df-7104-42df-ae51-d39f88e8a3c2",
   "metadata": {},
   "source": [
    "4. What are the values of the following expressions?\n",
    "- (5 > 4) and (3 == 5)                   o/p : False\n",
    "- not (5 > 4)                            o/p : False\n",
    "- (5 > 4) or (3 == 5)                    o/p : True\n",
    "- not ((5 > 4) or (3 == 5))              o/o : False\n",
    "- (True and True) and (True == False)    o/p : False\n",
    "- (not False) or (not True)              0/p : True\n"
   ]
  },
  {
   "cell_type": "markdown",
   "id": "b5bfc6cf-1f83-4d3c-825b-a9ceeed58d99",
   "metadata": {},
   "source": [
    "5. What are the six comparison operators?\n",
    " \n",
    "Ans:\n",
    "\n",
    "- Comparison operators are used to to compare two values.There are 6 comparison operators.\n",
    "1. \"==\" (equal to) returns True if the both the values are equal. for eg, a = 2, b = 2, a==b\n",
    "2. \"!=\" (not equal to) returns True if the both the values are not equal. for eg, a = 2, b = 3, a!=b.\n",
    "3. \"<\" (less than ) returns True if first value is less than second value. for eg, a = 2, b = 3, a<b.\n",
    "4. \"<=\" (less than or equal to ) returns True if first value is less than or equal to second value. for eg, a = 2, b = 3, a<=b. \n",
    "5. \">\" (greater than ) returns True if first value is greater than second value. for eg, a = 2, b = 3, a>b.\n",
    "6. \">=\" (greater than or equal to ) returns True if first value is greater than or equal to second value. for eg, a = 2, b = 3, a=>b. \n",
    "                                                                                                                                                                                                  "
   ]
  },
  {
   "cell_type": "markdown",
   "id": "4693f924-170e-4d30-85ae-0a14a9bafc43",
   "metadata": {},
   "source": [
    "6. How do you tell the difference between the equal to and assignment operators? Describe a condition and when you would use one.\n",
    "\n",
    "Ans:\n",
    "\n",
    "- The equal operator is \"==\" and The assignment operator is \"=\".\n",
    "- Equal operator is used to check whether two values are equal or not and return the boolean value while assignment operator is used to assign a value to the variable.\n",
    "\n",
    "- use of assignment operator\n",
    "- x = 3, y = 4\n",
    "\n",
    "- use to equal operator\n",
    "- x == y\n"
   ]
  },
  {
   "cell_type": "code",
   "execution_count": 1,
   "id": "6b5649c2-1c73-4800-bf3f-5b536f18b8c2",
   "metadata": {},
   "outputs": [
    {
     "name": "stdout",
     "output_type": "stream",
     "text": [
      "ham\n",
      "spam\n",
      "spam\n"
     ]
    }
   ],
   "source": [
    "#7. Identify the three blocks in this code:\n",
    "spam = 0\n",
    "if spam == 10:\n",
    "    print('eggs') #block 1\n",
    "if spam > 5:\n",
    "    print('bacon') #block 2\n",
    "else:\n",
    "    print('ham')    #block 3\n",
    "    print('spam')\n",
    "    print('spam')"
   ]
  },
  {
   "cell_type": "markdown",
   "id": "f6ad4e25-8245-4578-bbc0-86f5f8aa79e3",
   "metadata": {},
   "source": [
    "8. Write code that prints Hello if 1 is stored in spam, prints Howdy if 2 is stored in spam, and prints Greetings! if anything else is stored in spam."
   ]
  },
  {
   "cell_type": "code",
   "execution_count": 2,
   "id": "cefe73ca-a1ec-41ee-bcff-37ceeb7b5968",
   "metadata": {},
   "outputs": [
    {
     "name": "stdin",
     "output_type": "stream",
     "text": [
      "Please Enter a number : 2\n"
     ]
    },
    {
     "name": "stdout",
     "output_type": "stream",
     "text": [
      "Howdy\n"
     ]
    }
   ],
   "source": [
    "spam = int(input(\"Please Enter a number :\"))\n",
    "if spam == 1:\n",
    "    print(\"Hello\")\n",
    "elif spam == 2:\n",
    "    print(\"Howdy\")\n",
    "else:\n",
    "    print(\"Greetings!\")"
   ]
  },
  {
   "cell_type": "markdown",
   "id": "10a19b7b-ee4e-457b-9d1b-af0f68742b7b",
   "metadata": {},
   "source": [
    "9. If your programme is stuck in an endless loop, what keys you’ll press?\n",
    "\n",
    "Ans:\n",
    "\n",
    "- To close the endless loop, we will press ctrl+c"
   ]
  },
  {
   "cell_type": "markdown",
   "id": "223a1e33-6de9-4d6c-858b-2167fef21dd4",
   "metadata": {},
   "source": [
    "10. How can you tell the difference between break and continue?\n",
    "\n",
    "Ans : \n",
    "\n",
    "- Break command is used to break the loop and bring the control out of the loop.It will not execute any further.\n",
    "- Continue command is used to skip the current iteration and  will start the next execution. It will not execute the statment after continue keyword."
   ]
  },
  {
   "cell_type": "code",
   "execution_count": 3,
   "id": "0f52086c-d334-4cba-ad62-2da60459ad2a",
   "metadata": {},
   "outputs": [
    {
     "name": "stdout",
     "output_type": "stream",
     "text": [
      "1\n",
      "2\n",
      "3\n",
      "4\n",
      "5\n"
     ]
    }
   ],
   "source": [
    "# break statement\n",
    "for i in range(1,10):\n",
    "    if i==6:\n",
    "        break\n",
    "    else:\n",
    "        print(i)   "
   ]
  },
  {
   "cell_type": "code",
   "execution_count": 4,
   "id": "aa06cb8f-d319-4b5a-b038-fe4a56eafc61",
   "metadata": {},
   "outputs": [
    {
     "name": "stdout",
     "output_type": "stream",
     "text": [
      "1\n",
      "3\n",
      "5\n",
      "7\n",
      "9\n"
     ]
    }
   ],
   "source": [
    "#continue statement\n",
    "for i in range(1,10):\n",
    "    if i%2==0:\n",
    "        continue\n",
    "    else:\n",
    "        print(i)"
   ]
  },
  {
   "cell_type": "markdown",
   "id": "fbe248d3-b4f1-424c-a8a2-d23d1caafc04",
   "metadata": {},
   "source": [
    "11. In a for loop, what is the difference between range(10), range(0, 10), and range(0, 10, 1)?\n",
    "\n",
    "Ans :\n",
    "\n",
    "- In a for loop,\n",
    "  - range(10) will starts from 0 and end on 9 as it exclude the end point.\n",
    "  - range(0,10) will starts from 0 and end on 9 as it exclude the end point.\n",
    "  - range(0,10,1) will starts from 0 with the step size 1 an end on 9 as it exclude the end point.\n",
    "\n",
    "- Conclusion : All these 3 line will give the same output.\n"
   ]
  },
  {
   "cell_type": "code",
   "execution_count": 5,
   "id": "1348dfca-ca8d-4794-8179-75dfbb4877a4",
   "metadata": {},
   "outputs": [
    {
     "name": "stdout",
     "output_type": "stream",
     "text": [
      "0\n",
      "1\n",
      "2\n",
      "3\n",
      "4\n",
      "5\n",
      "6\n",
      "7\n",
      "8\n",
      "9\n"
     ]
    }
   ],
   "source": [
    "# range(10)\n",
    "for i in range(10):\n",
    "    print(i)"
   ]
  },
  {
   "cell_type": "code",
   "execution_count": 6,
   "id": "d0f31b5d-0fd3-4b2c-8c7a-877741cf802c",
   "metadata": {},
   "outputs": [
    {
     "name": "stdout",
     "output_type": "stream",
     "text": [
      "0\n",
      "1\n",
      "2\n",
      "3\n",
      "4\n",
      "5\n",
      "6\n",
      "7\n",
      "8\n",
      "9\n"
     ]
    }
   ],
   "source": [
    "# range(0,10)\n",
    "for i in range(0,10):\n",
    "    print(i)"
   ]
  },
  {
   "cell_type": "code",
   "execution_count": 7,
   "id": "12b6a964-7e56-4a33-b16f-4f5c9047324c",
   "metadata": {},
   "outputs": [
    {
     "name": "stdout",
     "output_type": "stream",
     "text": [
      "0\n",
      "1\n",
      "2\n",
      "3\n",
      "4\n",
      "5\n",
      "6\n",
      "7\n",
      "8\n",
      "9\n"
     ]
    }
   ],
   "source": [
    "# range(0,10,1)\n",
    "for i in range(0,10,1):\n",
    "    print(i)"
   ]
  },
  {
   "cell_type": "markdown",
   "id": "72d03b33-3692-4320-9da8-16c2583a8cc8",
   "metadata": {},
   "source": [
    "12. Write a short program that prints the numbers 1 to 10 using a for loop. Then write an equivalent program that prints the numbers 1 to 10 using a while loop."
   ]
  },
  {
   "cell_type": "code",
   "execution_count": 8,
   "id": "96af2d9e-cfbb-424d-a4fc-380e7b635b57",
   "metadata": {},
   "outputs": [
    {
     "name": "stdout",
     "output_type": "stream",
     "text": [
      "1\n",
      "2\n",
      "3\n",
      "4\n",
      "5\n",
      "6\n",
      "7\n",
      "8\n",
      "9\n",
      "10\n"
     ]
    }
   ],
   "source": [
    "#using for loop\n",
    "\n",
    "for i in range(1,11):\n",
    "    print(i)"
   ]
  },
  {
   "cell_type": "code",
   "execution_count": 9,
   "id": "b0e6c4ed-2186-4a6f-99bb-3c3b2470e270",
   "metadata": {},
   "outputs": [
    {
     "name": "stdout",
     "output_type": "stream",
     "text": [
      "1\n",
      "2\n",
      "3\n",
      "4\n",
      "5\n",
      "6\n",
      "7\n",
      "8\n",
      "9\n",
      "10\n"
     ]
    }
   ],
   "source": [
    "#using while loop\n",
    "\n",
    "i = 1\n",
    "while i<11:\n",
    "    print(i)\n",
    "    i = i+1"
   ]
  },
  {
   "cell_type": "markdown",
   "id": "f232f5a1-73eb-4f1f-a0c9-db152b594402",
   "metadata": {},
   "source": [
    "13. If you had a function named bacon() inside a module named spam, how would you call it after importing spam?\n",
    "\n",
    "Ans:\n",
    "\n",
    "- spam.bacon()"
   ]
  },
  {
   "cell_type": "code",
   "execution_count": null,
   "id": "0ab61cf8-c81a-401d-9e72-2039fd094b5d",
   "metadata": {},
   "outputs": [],
   "source": []
  }
 ],
 "metadata": {
  "kernelspec": {
   "display_name": "Python 3 (ipykernel)",
   "language": "python",
   "name": "python3"
  },
  "language_info": {
   "codemirror_mode": {
    "name": "ipython",
    "version": 3
   },
   "file_extension": ".py",
   "mimetype": "text/x-python",
   "name": "python",
   "nbconvert_exporter": "python",
   "pygments_lexer": "ipython3",
   "version": "3.10.6"
  }
 },
 "nbformat": 4,
 "nbformat_minor": 5
}
