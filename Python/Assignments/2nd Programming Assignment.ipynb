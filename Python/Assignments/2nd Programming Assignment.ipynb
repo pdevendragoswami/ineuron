{
 "cells": [
  {
   "cell_type": "markdown",
   "id": "e19efb3c-66d5-488e-91ce-49fbc4e62388",
   "metadata": {},
   "source": [
    "1. Write a Python program to convert kilometers to miles?"
   ]
  },
  {
   "cell_type": "code",
   "execution_count": 1,
   "id": "088c4b8e-fd10-412f-9389-dd5697863c4b",
   "metadata": {},
   "outputs": [
    {
     "name": "stdin",
     "output_type": "stream",
     "text": [
      "Enter the kilometer: 5\n"
     ]
    },
    {
     "name": "stdout",
     "output_type": "stream",
     "text": [
      "The value from kilometer 5.0 to miles is 3.1064999999999996.\n"
     ]
    }
   ],
   "source": [
    "km = float(input('Enter the kilometer:'))\n",
    "miles = 0.6213\n",
    "total_miles = km * 0.6213\n",
    "print(f\"The value from kilometer {km} to miles is {total_miles}.\")"
   ]
  },
  {
   "cell_type": "markdown",
   "id": "5fb086a1-a839-46da-ab38-6f7401451765",
   "metadata": {},
   "source": [
    "2. Write a Python program to convert Celsius to Fahrenheit?"
   ]
  },
  {
   "cell_type": "code",
   "execution_count": 2,
   "id": "028ef3a4-01c3-4994-8cf5-ad56c1049ad1",
   "metadata": {},
   "outputs": [
    {
     "name": "stdin",
     "output_type": "stream",
     "text": [
      "Enter the Celsius value: 37.6\n"
     ]
    },
    {
     "name": "stdout",
     "output_type": "stream",
     "text": [
      "Fahrenheit value of 37.6 celsius is 99.68 f\n"
     ]
    }
   ],
   "source": [
    "c = float(input('Enter the Celsius value:'))\n",
    "\n",
    "f = (c * 9/5) + 32\n",
    "\n",
    "print(f\"Fahrenheit value of {c} celsius is {f} f\")\n"
   ]
  },
  {
   "cell_type": "markdown",
   "id": "90f79038-d149-42ac-bd29-791fa756b14e",
   "metadata": {},
   "source": [
    "3. Write a Python program to display calendar?"
   ]
  },
  {
   "cell_type": "code",
   "execution_count": 3,
   "id": "7dba61a8-e8d0-4b20-85bc-5c62030a6ba1",
   "metadata": {},
   "outputs": [],
   "source": [
    "import calendar"
   ]
  },
  {
   "cell_type": "code",
   "execution_count": 4,
   "id": "7975009b-308c-433d-8f00-29ae5a9fda2a",
   "metadata": {},
   "outputs": [
    {
     "name": "stdout",
     "output_type": "stream",
     "text": [
      "                                  2023\n",
      "\n",
      "      January                   February                   March\n",
      "Mo Tu We Th Fr Sa Su      Mo Tu We Th Fr Sa Su      Mo Tu We Th Fr Sa Su\n",
      "                   1             1  2  3  4  5             1  2  3  4  5\n",
      " 2  3  4  5  6  7  8       6  7  8  9 10 11 12       6  7  8  9 10 11 12\n",
      " 9 10 11 12 13 14 15      13 14 15 16 17 18 19      13 14 15 16 17 18 19\n",
      "16 17 18 19 20 21 22      20 21 22 23 24 25 26      20 21 22 23 24 25 26\n",
      "23 24 25 26 27 28 29      27 28                     27 28 29 30 31\n",
      "30 31\n",
      "\n",
      "       April                      May                       June\n",
      "Mo Tu We Th Fr Sa Su      Mo Tu We Th Fr Sa Su      Mo Tu We Th Fr Sa Su\n",
      "                1  2       1  2  3  4  5  6  7                1  2  3  4\n",
      " 3  4  5  6  7  8  9       8  9 10 11 12 13 14       5  6  7  8  9 10 11\n",
      "10 11 12 13 14 15 16      15 16 17 18 19 20 21      12 13 14 15 16 17 18\n",
      "17 18 19 20 21 22 23      22 23 24 25 26 27 28      19 20 21 22 23 24 25\n",
      "24 25 26 27 28 29 30      29 30 31                  26 27 28 29 30\n",
      "\n",
      "        July                     August                  September\n",
      "Mo Tu We Th Fr Sa Su      Mo Tu We Th Fr Sa Su      Mo Tu We Th Fr Sa Su\n",
      "                1  2          1  2  3  4  5  6                   1  2  3\n",
      " 3  4  5  6  7  8  9       7  8  9 10 11 12 13       4  5  6  7  8  9 10\n",
      "10 11 12 13 14 15 16      14 15 16 17 18 19 20      11 12 13 14 15 16 17\n",
      "17 18 19 20 21 22 23      21 22 23 24 25 26 27      18 19 20 21 22 23 24\n",
      "24 25 26 27 28 29 30      28 29 30 31               25 26 27 28 29 30\n",
      "31\n",
      "\n",
      "      October                   November                  December\n",
      "Mo Tu We Th Fr Sa Su      Mo Tu We Th Fr Sa Su      Mo Tu We Th Fr Sa Su\n",
      "                   1             1  2  3  4  5                   1  2  3\n",
      " 2  3  4  5  6  7  8       6  7  8  9 10 11 12       4  5  6  7  8  9 10\n",
      " 9 10 11 12 13 14 15      13 14 15 16 17 18 19      11 12 13 14 15 16 17\n",
      "16 17 18 19 20 21 22      20 21 22 23 24 25 26      18 19 20 21 22 23 24\n",
      "23 24 25 26 27 28 29      27 28 29 30               25 26 27 28 29 30 31\n",
      "30 31\n",
      "\n"
     ]
    }
   ],
   "source": [
    "print(calendar.calendar(2023))"
   ]
  },
  {
   "cell_type": "markdown",
   "id": "04ad2a03-bab4-4513-aabc-7ebf7489b4ba",
   "metadata": {},
   "source": [
    "4. Write a Python program to solve quadratic equation?"
   ]
  },
  {
   "cell_type": "code",
   "execution_count": 5,
   "id": "0cdcc2f0-3364-498d-b196-8d09c26e2f26",
   "metadata": {},
   "outputs": [
    {
     "name": "stdin",
     "output_type": "stream",
     "text": [
      "Enter the value 1\n",
      "Enter the value 5\n",
      "Enter the value 6\n"
     ]
    },
    {
     "name": "stdout",
     "output_type": "stream",
     "text": [
      "The solution for quaratic equation is -2.0 and -3.0\n"
     ]
    }
   ],
   "source": [
    "import math\n",
    "a = int(input('Enter the value'))\n",
    "b = int(input('Enter the value'))\n",
    "c = int(input('Enter the value'))\n",
    "\n",
    "x = math.sqrt(b**2 - 4*a*c)\n",
    "root1 = (-b+x)/2*a\n",
    "root2 = (-b-x)/2*a\n",
    "\n",
    "print(f\"The solution for quaratic equation is {root1} and {root2}\")"
   ]
  },
  {
   "cell_type": "markdown",
   "id": "925c65d3-0042-42d7-8046-e420b5fd1d29",
   "metadata": {},
   "source": [
    "5. Write a Python program to swap two variables without temp variable?"
   ]
  },
  {
   "cell_type": "code",
   "execution_count": 6,
   "id": "6d2fd69c-8412-4d15-ae01-caaa4d7a03dc",
   "metadata": {},
   "outputs": [
    {
     "name": "stdin",
     "output_type": "stream",
     "text": [
      "Enter the value 2\n",
      "Enter the value 7\n"
     ]
    },
    {
     "name": "stdout",
     "output_type": "stream",
     "text": [
      "Before swapping a : 2 and b : 7\n",
      "Before swapping a : 7 and b : 2\n"
     ]
    }
   ],
   "source": [
    "a = int(input('Enter the value'))\n",
    "b = int(input('Enter the value'))\n",
    "print(f\"Before swapping a : {a} and b : {b}\")\n",
    "a,b = b,a\n",
    "print(f\"Before swapping a : {a} and b : {b}\")"
   ]
  },
  {
   "cell_type": "code",
   "execution_count": null,
   "id": "afc3ad03-7bc6-41f7-a4fa-795cbcacb540",
   "metadata": {},
   "outputs": [],
   "source": []
  }
 ],
 "metadata": {
  "kernelspec": {
   "display_name": "Python 3 (ipykernel)",
   "language": "python",
   "name": "python3"
  },
  "language_info": {
   "codemirror_mode": {
    "name": "ipython",
    "version": 3
   },
   "file_extension": ".py",
   "mimetype": "text/x-python",
   "name": "python",
   "nbconvert_exporter": "python",
   "pygments_lexer": "ipython3",
   "version": "3.10.6"
  }
 },
 "nbformat": 4,
 "nbformat_minor": 5
}
