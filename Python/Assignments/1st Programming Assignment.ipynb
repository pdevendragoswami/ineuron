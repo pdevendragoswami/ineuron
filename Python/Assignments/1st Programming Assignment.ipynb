{
 "cells": [
  {
   "cell_type": "markdown",
   "id": "c168eb32-ae17-4f8f-aeef-9ec20e8717eb",
   "metadata": {},
   "source": [
    "1. Write a Python program to print \"Hello Python\"?"
   ]
  },
  {
   "cell_type": "code",
   "execution_count": 1,
   "id": "53b3efec-7073-444c-b7af-56a43cb6bc92",
   "metadata": {},
   "outputs": [
    {
     "name": "stdout",
     "output_type": "stream",
     "text": [
      "Hello Python\n"
     ]
    }
   ],
   "source": [
    "print('Hello Python')"
   ]
  },
  {
   "cell_type": "markdown",
   "id": "100fcd7c-690a-497f-90bc-c7f27d0f2017",
   "metadata": {},
   "source": [
    "2. Write a Python program to do arithmetical operations addition and division.?"
   ]
  },
  {
   "cell_type": "code",
   "execution_count": 2,
   "id": "6ba98ac9-a665-4ed4-9508-0a859df5da4b",
   "metadata": {},
   "outputs": [
    {
     "name": "stdin",
     "output_type": "stream",
     "text": [
      "Enter the first value: 10\n",
      "Enter the second value: 5\n"
     ]
    },
    {
     "name": "stdout",
     "output_type": "stream",
     "text": [
      "Sum of 10 and 5 is 15\n",
      "Division of 10 and 5 is 2.0\n"
     ]
    }
   ],
   "source": [
    "a = int(input('Enter the first value:'))\n",
    "b = int(input('Enter the second value:'))\n",
    "total = a+b\n",
    "div = a/b\n",
    "print(f\"Sum of {a} and {b} is {total}\")\n",
    "print(f\"Division of {a} and {b} is {div}\")"
   ]
  },
  {
   "cell_type": "markdown",
   "id": "4b307c2e-9f8c-49ee-8417-e5ab8d4aa1dc",
   "metadata": {},
   "source": [
    "3. Write a Python program to find the area of a triangle?"
   ]
  },
  {
   "cell_type": "code",
   "execution_count": 3,
   "id": "a8365807-61f3-424c-8e4e-e13f057fd836",
   "metadata": {},
   "outputs": [
    {
     "name": "stdin",
     "output_type": "stream",
     "text": [
      "Enter the base: 10\n",
      "Enter the height: 2\n"
     ]
    },
    {
     "name": "stdout",
     "output_type": "stream",
     "text": [
      "The area of triangle with base 10 and height 2 is 10.0.\n"
     ]
    }
   ],
   "source": [
    "base = int(input('Enter the base:'))\n",
    "height = int(input('Enter the height:'))\n",
    "area = 0.5*base*height\n",
    "\n",
    "print(f\"The area of triangle with base {base} and height {height} is {area}.\")"
   ]
  },
  {
   "cell_type": "markdown",
   "id": "bf1a648d-8876-4aad-bcd4-22bef3735852",
   "metadata": {},
   "source": [
    "4. Write a Python program to swap two variables?\n"
   ]
  },
  {
   "cell_type": "code",
   "execution_count": 4,
   "id": "2b90d96d-e904-46e0-b26b-022fb52764af",
   "metadata": {},
   "outputs": [
    {
     "name": "stdin",
     "output_type": "stream",
     "text": [
      "Enter the first value: 11\n",
      "Enter the second value: 7\n"
     ]
    },
    {
     "name": "stdout",
     "output_type": "stream",
     "text": [
      "Before swapping a: 11 and b: 7\n",
      "After swapping a: 7 and b: 11\n"
     ]
    }
   ],
   "source": [
    "a = int(input('Enter the first value:'))\n",
    "b = int(input('Enter the second value:'))\n",
    "print(f\"Before swapping a: {a} and b: {b}\")\n",
    "a,b = b,a\n",
    "print(f\"After swapping a: {a} and b: {b}\")"
   ]
  },
  {
   "cell_type": "markdown",
   "id": "aaac6102-2d1a-4ffc-9258-a893976379d8",
   "metadata": {},
   "source": [
    "5. Write a Python program to generate a random number?"
   ]
  },
  {
   "cell_type": "code",
   "execution_count": 5,
   "id": "5d5330d2-dec3-4f41-a809-38125ffb44b6",
   "metadata": {},
   "outputs": [
    {
     "data": {
      "text/plain": [
       "8"
      ]
     },
     "execution_count": 5,
     "metadata": {},
     "output_type": "execute_result"
    }
   ],
   "source": [
    "import random\n",
    "random.randint(0,100)"
   ]
  }
 ],
 "metadata": {
  "kernelspec": {
   "display_name": "Python 3 (ipykernel)",
   "language": "python",
   "name": "python3"
  },
  "language_info": {
   "codemirror_mode": {
    "name": "ipython",
    "version": 3
   },
   "file_extension": ".py",
   "mimetype": "text/x-python",
   "name": "python",
   "nbconvert_exporter": "python",
   "pygments_lexer": "ipython3",
   "version": "3.10.6"
  }
 },
 "nbformat": 4,
 "nbformat_minor": 5
}
