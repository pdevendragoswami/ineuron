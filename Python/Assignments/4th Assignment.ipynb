{
 "cells": [
  {
   "cell_type": "markdown",
   "id": "040797d0-250d-4b0f-96ae-7218fc3b9b56",
   "metadata": {},
   "source": [
    "1. What exactly is []?\n",
    "- It is used to create an empty list.We can also define an empty list by list()."
   ]
  },
  {
   "cell_type": "markdown",
   "id": "28c04e0d-3957-4654-8c4a-b70ce4ef739d",
   "metadata": {},
   "source": [
    "2. In a list of values stored in a variable called spam, how would you assign the value 'hello' as the\n",
    "third value? (Assume [2, 4, 6, 8, 10] are in spam.)\n",
    "\n",
    "- spam[2] = 'hello'"
   ]
  },
  {
   "cell_type": "markdown",
   "id": "1bc460d6-352f-421b-b341-c8dc4f8f0b7e",
   "metadata": {},
   "source": [
    "Let's pretend the spam includes the list ['a', 'b','c', 'd'] for the next three queries.\n",
    "\n",
    "3. What is the value of spam[int(int('3' * 2) / 11)]?\n",
    "- 'd'\n"
   ]
  },
  {
   "cell_type": "markdown",
   "id": "c1442b35-5abf-443a-827d-872a9b3ba545",
   "metadata": {},
   "source": [
    "4. What is the value of spam[-1]?\n",
    "- 'd'"
   ]
  },
  {
   "cell_type": "markdown",
   "id": "c16e99b5-4f6d-4414-8f4a-997ad6023cbe",
   "metadata": {},
   "source": [
    "5. What is the value of spam[:2]?\n",
    "- ['a','b']"
   ]
  },
  {
   "cell_type": "markdown",
   "id": "2b19c0da-fe3b-4c0c-a0aa-75754ccfae5f",
   "metadata": {},
   "source": [
    "Let's pretend bacon has the list [3.14,'cat',11, 'cat',True] for the next three questions.\n",
    "\n",
    "6. What is the value of bacon.index('cat')?\n",
    "- 1\n"
   ]
  },
  {
   "cell_type": "markdown",
   "id": "68f7e9b5-a42f-4d7d-b77a-f56064e66357",
   "metadata": {},
   "source": [
    "7. How does bacon.append(99) change the look of the list value in bacon?\n",
    "- [3.14,'cat',11, 'cat', True,99]"
   ]
  },
  {
   "cell_type": "markdown",
   "id": "963508c8-15ae-406c-bef9-2049d0f2922e",
   "metadata": {},
   "source": [
    "8. How does bacon.remove('cat') change the look of the list in bacon?\n",
    "- [3.14, 11,'cat', True, 99]"
   ]
  },
  {
   "cell_type": "markdown",
   "id": "5b5bef5a-0819-4829-afbd-620e6a34b212",
   "metadata": {},
   "source": [
    "9. What are the list concatenation and list replication operators?\n",
    "- List concatenation is nothing but just adding/merging two list\n",
    "- List replication is nothing but repeating the value from list multiple time"
   ]
  },
  {
   "cell_type": "code",
   "execution_count": 1,
   "id": "514d17ea-0043-4900-b46b-3ae01f78c2ad",
   "metadata": {},
   "outputs": [
    {
     "name": "stdout",
     "output_type": "stream",
     "text": [
      "[1, 2, 3, 4, 'a', 'b', 'c', 'd']\n",
      "['a', 'b', 'c', 'd', 'a', 'b', 'c', 'd', 'a', 'b', 'c', 'd']\n"
     ]
    }
   ],
   "source": [
    "list1 = [1,2,3,4]\n",
    "list2 = ['a','b','c','d']\n",
    "#list concatenation\n",
    "list3 = list1 + list2\n",
    "print(list3)\n",
    "# list replication\n",
    "list4 = list2*3\n",
    "print(list4)"
   ]
  },
  {
   "cell_type": "markdown",
   "id": "264f11ac-20a9-4a84-b6b0-010608e43a28",
   "metadata": {},
   "source": [
    "10. What is difference between the list methods append() and insert()?\n",
    "- append method is used to add a value at the end of list.\n",
    "- syntax : list_val.append(value)\n",
    "- insert method is used to add a value at the specific index position.\n",
    "- syntax : list_val.insert(index_position,value)\n"
   ]
  },
  {
   "cell_type": "code",
   "execution_count": 2,
   "id": "ffaa925f-0551-4b77-97a3-f02bb62c3c41",
   "metadata": {},
   "outputs": [
    {
     "name": "stdout",
     "output_type": "stream",
     "text": [
      "[1, 2, 3, 4]\n",
      "[1, 2, 3, 4, 5]\n",
      "[1, 2, 7, 3, 4, 5]\n"
     ]
    }
   ],
   "source": [
    "print(list1)\n",
    "#append\n",
    "list1.append(5)\n",
    "print(list1)\n",
    "#insert\n",
    "list1.insert(2,7)\n",
    "print(list1)"
   ]
  },
  {
   "cell_type": "markdown",
   "id": "e2d90e47-556c-44ee-b71e-dcdebafe38cf",
   "metadata": {},
   "source": [
    "11. What are the two methods for removing items from a list?\n",
    "- pop is used to remove items from a list.It is basically a index base removal.\n",
    "- syntax : list_val.pop(index_position)\n",
    "- remove is similar to pop but it is a value base removal. \n",
    "- If there are multiple values, then it will remove the item of first occurance.\n",
    "- syntax : list_val.remove(value)"
   ]
  },
  {
   "cell_type": "code",
   "execution_count": 33,
   "id": "88a59c6c-2121-441c-8452-31336c5efe8c",
   "metadata": {},
   "outputs": [
    {
     "name": "stdout",
     "output_type": "stream",
     "text": [
      "[1, 2, 3, 7, 4, 5]\n",
      "[1, 2, 3, 4, 5]\n",
      "[1, 2, 3, 4]\n"
     ]
    }
   ],
   "source": [
    "print(list1)\n",
    "#pop\n",
    "list1.pop(3)\n",
    "print(list1)\n",
    "#remove\n",
    "list1.remove(5)\n",
    "print(list1)"
   ]
  },
  {
   "cell_type": "markdown",
   "id": "206d3da7-53a7-4f66-a35f-efafedc880a4",
   "metadata": {},
   "source": [
    "12. Describe how list values and string values are identical.\n",
    "- Since list is an ordered collection of items and String is an ordered sequence of character.\n",
    "- We can perform indexing and slicing both on list and string.\n",
    "- We can perform concatenation and replication on list and string."
   ]
  },
  {
   "cell_type": "markdown",
   "id": "0cc76b1a-b32e-40c4-8656-bb0d21f08ed3",
   "metadata": {},
   "source": [
    "13. What's the difference between tuples and lists?\n",
    "- list is mutuable while tuple is immutable.\n",
    "- list is sourrouded by square bracket but tuple are sourrouded by round bracket.\n",
    "- There are only 2 methods for tuple but there are multiple methods for list.\n",
    "- Therefore tuples are relatively faster than list."
   ]
  },
  {
   "cell_type": "markdown",
   "id": "7c314d7c-0cb2-49fb-bbe1-968c843b09ec",
   "metadata": {},
   "source": [
    "14. How do you type a tuple value that only contains the integer 42?\n",
    "- tup = (42,)\n"
   ]
  },
  {
   "cell_type": "markdown",
   "id": "30f3455e-a8f3-4d47-84ed-b20bced3991a",
   "metadata": {},
   "source": [
    "15. How do you get a list value's tuple form? How do you get a tuple value's list form?\n",
    "- To get a list value in tuple form, we use typecasting.\n",
    "- list1 = [1,2,3]\n",
    "- tup1 = tuple(list1)\n",
    "\n",
    "- Similarly, to get a tuple value in list,we use typecasting.\n",
    "- tup2 = tuple(1,2,3)\n",
    "- list2 = list(tup2)\n",
    "\n"
   ]
  },
  {
   "cell_type": "markdown",
   "id": "ee6639b5-2067-4376-8482-f3ee84e9c6b8",
   "metadata": {},
   "source": [
    "16. Variables that \"contain\" list values are not necessarily lists themselves. Instead, what do they\n",
    "contain?\n",
    "- Variables will contain references to list values."
   ]
  },
  {
   "cell_type": "markdown",
   "id": "8c929ae7-b2bb-4a35-92af-571c418aa01e",
   "metadata": {},
   "source": [
    "17. How do you distinguish between copy.copy() and copy.deepcopy()?\n",
    "- copy() is used to creates a shallow copy of object.\n",
    "- i.e. create a new object that references the same objects as the original.\n",
    "- deepcopy() is used creates a deep copy of the object.\n",
    "- i.e. creates a completely new object with its own set of objects."
   ]
  },
  {
   "cell_type": "code",
   "execution_count": 14,
   "id": "878092ca-d8e6-4c95-bd55-022b1939628f",
   "metadata": {},
   "outputs": [
    {
     "name": "stdout",
     "output_type": "stream",
     "text": [
      "Original_list : [1, 2, [3, 4, 5], 6]\n",
      "shallow_copy : [1, 2, [3, 4, 5], 6]\n",
      "deep_copy : [1, 2, [3, 4, 5], 6]\n"
     ]
    }
   ],
   "source": [
    "import copy\n",
    "my_list = [1,2,[3,4,5],6]\n",
    "copied_list = copy.copy(my_list)\n",
    "deep_copy = copy.deepcopy(my_list)\n",
    "print(f\"Original_list : {my_list}\")\n",
    "print(f\"shallow_copy : {copied_list}\")\n",
    "print(f\"deep_copy : {deep_copy}\")"
   ]
  },
  {
   "cell_type": "code",
   "execution_count": 15,
   "id": "a183aa4f-307a-4aa9-90d4-41e33f48a590",
   "metadata": {},
   "outputs": [],
   "source": [
    "my_list.append(7)"
   ]
  },
  {
   "cell_type": "code",
   "execution_count": 16,
   "id": "db1c0435-52d7-433e-9f74-6ddc54516e2b",
   "metadata": {},
   "outputs": [
    {
     "name": "stdout",
     "output_type": "stream",
     "text": [
      "Original_list : [1, 2, [3, 4, 5], 6, 7]\n",
      "shallow_copy : [1, 2, [3, 4, 5], 6]\n",
      "deep_copy : [1, 2, [3, 4, 5], 6]\n"
     ]
    }
   ],
   "source": [
    "print(f\"Original_list : {my_list}\")\n",
    "print(f\"shallow_copy : {copied_list}\")\n",
    "print(f\"deep_copy : {deep_copy}\")"
   ]
  },
  {
   "cell_type": "code",
   "execution_count": 17,
   "id": "2a4e56f0-b4c1-435b-bf0e-9ccb45da152d",
   "metadata": {},
   "outputs": [],
   "source": [
    "my_list[2].append(11)"
   ]
  },
  {
   "cell_type": "code",
   "execution_count": 18,
   "id": "82d2a243-3d7b-4286-82fe-838bb15d1202",
   "metadata": {},
   "outputs": [
    {
     "name": "stdout",
     "output_type": "stream",
     "text": [
      "Original_list : [1, 2, [3, 4, 5, 11], 6, 7]\n",
      "shallow_copy : [1, 2, [3, 4, 5, 11], 6]\n",
      "deep_copy : [1, 2, [3, 4, 5], 6]\n"
     ]
    }
   ],
   "source": [
    "print(f\"Original_list : {my_list}\")\n",
    "print(f\"shallow_copy : {copied_list}\")\n",
    "print(f\"deep_copy : {deep_copy}\")"
   ]
  },
  {
   "cell_type": "code",
   "execution_count": null,
   "id": "f4910dfc-d2e6-4e99-94d5-4aa1cb50a88a",
   "metadata": {},
   "outputs": [],
   "source": []
  }
 ],
 "metadata": {
  "kernelspec": {
   "display_name": "Python 3 (ipykernel)",
   "language": "python",
   "name": "python3"
  },
  "language_info": {
   "codemirror_mode": {
    "name": "ipython",
    "version": 3
   },
   "file_extension": ".py",
   "mimetype": "text/x-python",
   "name": "python",
   "nbconvert_exporter": "python",
   "pygments_lexer": "ipython3",
   "version": "3.10.6"
  }
 },
 "nbformat": 4,
 "nbformat_minor": 5
}
