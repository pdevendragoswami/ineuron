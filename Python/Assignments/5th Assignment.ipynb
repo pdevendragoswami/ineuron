{
 "cells": [
  {
   "cell_type": "markdown",
   "id": "9de58eb6-47c6-4328-b18b-78ed0c0fcc2e",
   "metadata": {},
   "source": [
    "1. What does an empty dictionary's code look like?"
   ]
  },
  {
   "cell_type": "code",
   "execution_count": 1,
   "id": "cbf5615d-e404-4911-8460-c3d1620e90f9",
   "metadata": {},
   "outputs": [
    {
     "data": {
      "text/plain": [
       "{}"
      ]
     },
     "execution_count": 1,
     "metadata": {},
     "output_type": "execute_result"
    }
   ],
   "source": [
    "my_dict = dict()\n",
    "my_dict"
   ]
  },
  {
   "cell_type": "markdown",
   "id": "fa377ade-3d4e-4330-95be-edd48a2bf9d4",
   "metadata": {},
   "source": [
    "2. What is the value of a dictionary value with the key 'foo' and the value 42?"
   ]
  },
  {
   "cell_type": "code",
   "execution_count": 2,
   "id": "e24c5d62-ac90-4f6b-b248-a7fef314ad5e",
   "metadata": {},
   "outputs": [
    {
     "data": {
      "text/plain": [
       "42"
      ]
     },
     "execution_count": 2,
     "metadata": {},
     "output_type": "execute_result"
    }
   ],
   "source": [
    "my_dict = {'foo':42}\n",
    "my_dict['foo']"
   ]
  },
  {
   "cell_type": "markdown",
   "id": "2020269a-2a91-45fa-bb1f-dfde764fee32",
   "metadata": {},
   "source": [
    "3. What is the most significant distinction between a dictionary and a list?\n",
    "- Dictionary are surrounded by curly bracket. \n",
    "- It is unordered collection of key value pair where keys are unique and values can be repeated.\n",
    "- List are surrouned by square bracket.\n",
    "- It is ordered collection of values with any kind of data type."
   ]
  },
  {
   "cell_type": "markdown",
   "id": "a59ada25-d1b5-4081-8404-937622a09558",
   "metadata": {},
   "source": [
    "4. What happens if you try to access spam['foo'] if spam is {'bar': 100}?\n",
    "- It is throw the KeyValue as key is not defined."
   ]
  },
  {
   "cell_type": "code",
   "execution_count": 3,
   "id": "11ff4e45-6910-4272-ab9b-92c4e720b13b",
   "metadata": {},
   "outputs": [
    {
     "ename": "KeyError",
     "evalue": "'foo'",
     "output_type": "error",
     "traceback": [
      "\u001b[0;31m---------------------------------------------------------------------------\u001b[0m",
      "\u001b[0;31mKeyError\u001b[0m                                  Traceback (most recent call last)",
      "Cell \u001b[0;32mIn [3], line 2\u001b[0m\n\u001b[1;32m      1\u001b[0m spam \u001b[38;5;241m=\u001b[39m {\u001b[38;5;124m'\u001b[39m\u001b[38;5;124mbar\u001b[39m\u001b[38;5;124m'\u001b[39m:\u001b[38;5;241m100\u001b[39m}\n\u001b[0;32m----> 2\u001b[0m \u001b[43mspam\u001b[49m\u001b[43m[\u001b[49m\u001b[38;5;124;43m'\u001b[39;49m\u001b[38;5;124;43mfoo\u001b[39;49m\u001b[38;5;124;43m'\u001b[39;49m\u001b[43m]\u001b[49m\n",
      "\u001b[0;31mKeyError\u001b[0m: 'foo'"
     ]
    }
   ],
   "source": [
    "spam = {'bar':100}\n",
    "spam['foo']"
   ]
  },
  {
   "cell_type": "markdown",
   "id": "f8d05333-37b7-44fb-a807-05de2302f75d",
   "metadata": {},
   "source": [
    "5. If a dictionary is stored in spam, what is the difference between the expressions 'cat' in spam and'cat' in spam.keys()?\n",
    "- 'cat' in spam will check whether 'cat' is present or not in dict spam.\n",
    "- 'cat' in spam.keys() will check whether 'cat' is present or not in keys of dict spam."
   ]
  },
  {
   "cell_type": "markdown",
   "id": "840163dc-94b0-43d7-a501-24378df5c8ee",
   "metadata": {},
   "source": [
    "6. If a dictionary is stored in spam, what is the difference between the expressions 'cat' in spam and 'cat' in spam.values()?\n",
    "- 'cat' in spam will check whether 'cat' is present or not in dict spam.\n",
    "- 'cat' in spam.values() will check whether 'cat' is present or not in values of dict spam."
   ]
  },
  {
   "cell_type": "markdown",
   "id": "98e47156-fb27-4b15-abb7-155724970a03",
   "metadata": {},
   "source": [
    "7. What is a shortcut for the following code?\n",
    "- if 'color' not in spam:\n",
    "- spam['color'] = 'black';"
   ]
  },
  {
   "cell_type": "code",
   "execution_count": 4,
   "id": "057abc51-05d7-4e39-8c4d-3591804511c0",
   "metadata": {},
   "outputs": [
    {
     "data": {
      "text/plain": [
       "{'bar': 100, 'color': 'black'}"
      ]
     },
     "execution_count": 4,
     "metadata": {},
     "output_type": "execute_result"
    }
   ],
   "source": [
    "spam.setdefault('color','black')\n",
    "spam"
   ]
  },
  {
   "cell_type": "markdown",
   "id": "35091316-053d-4658-a85a-c0c6becf85b3",
   "metadata": {},
   "source": [
    "8. How do you \"pretty print\" dictionary values using which module and function?"
   ]
  },
  {
   "cell_type": "code",
   "execution_count": 5,
   "id": "2be2ec58-aea2-4a23-ba5b-82216b2f3544",
   "metadata": {},
   "outputs": [],
   "source": [
    "import pprint\n",
    "my_dict = [ {'Name': 'Shiva', 'Age': '23', 'Country': 'India'},\n",
    "  {'Name': 'Anna', 'Age': '44', 'Country': 'China'},\n",
    "  {'Name': 'Joe', 'Age': '29', 'Country': 'UK'},\n",
    "  {'Name': 'Chumlee', 'Age': '35', 'Country': 'USA'}\n",
    "]"
   ]
  },
  {
   "cell_type": "code",
   "execution_count": 6,
   "id": "29a1d16d-bc51-4548-b432-b3cbf98f1ecf",
   "metadata": {},
   "outputs": [
    {
     "name": "stdout",
     "output_type": "stream",
     "text": [
      "[{'Age': '23', 'Country': 'India', 'Name': 'Shiva'},\n",
      " {'Age': '44', 'Country': 'China', 'Name': 'Anna'},\n",
      " {'Age': '29', 'Country': 'UK', 'Name': 'Joe'},\n",
      " {'Age': '35', 'Country': 'USA', 'Name': 'Chumlee'}]\n"
     ]
    }
   ],
   "source": [
    "pprint.pprint(my_dict)"
   ]
  },
  {
   "cell_type": "code",
   "execution_count": 7,
   "id": "0b7b8805-bcc9-49b6-8bd2-6c4bc1b2275f",
   "metadata": {},
   "outputs": [
    {
     "name": "stdout",
     "output_type": "stream",
     "text": [
      "[{'Name': 'Shiva', 'Age': '23', 'Country': 'India'}, {'Name': 'Anna', 'Age': '44', 'Country': 'China'}, {'Name': 'Joe', 'Age': '29', 'Country': 'UK'}, {'Name': 'Chumlee', 'Age': '35', 'Country': 'USA'}]\n"
     ]
    }
   ],
   "source": [
    "print(my_dict)"
   ]
  }
 ],
 "metadata": {
  "kernelspec": {
   "display_name": "Python 3 (ipykernel)",
   "language": "python",
   "name": "python3"
  },
  "language_info": {
   "codemirror_mode": {
    "name": "ipython",
    "version": 3
   },
   "file_extension": ".py",
   "mimetype": "text/x-python",
   "name": "python",
   "nbconvert_exporter": "python",
   "pygments_lexer": "ipython3",
   "version": "3.10.6"
  }
 },
 "nbformat": 4,
 "nbformat_minor": 5
}
