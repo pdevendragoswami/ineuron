{
 "cells": [
  {
   "cell_type": "markdown",
   "id": "52855624-d079-4059-bf43-68e81f490f31",
   "metadata": {},
   "source": [
    "1. Write a Python Program to Find the Factorial of a Number?"
   ]
  },
  {
   "cell_type": "code",
   "execution_count": 1,
   "id": "0e4b03eb-be70-4ea0-a7a2-c95fcd870a2c",
   "metadata": {},
   "outputs": [
    {
     "name": "stdin",
     "output_type": "stream",
     "text": [
      "Enter the number: 5\n"
     ]
    },
    {
     "name": "stdout",
     "output_type": "stream",
     "text": [
      "Factorial of 5 is 120\n"
     ]
    }
   ],
   "source": [
    "n = int(input('Enter the number:'))\n",
    "fact = 1\n",
    "for i in range(n):\n",
    "    fact = fact * (i+1)\n",
    "print(f'Factorial of {n} is {fact}')"
   ]
  },
  {
   "cell_type": "markdown",
   "id": "2de385e1-f0c5-408b-9509-f635b745fd4a",
   "metadata": {},
   "source": [
    "2. Write a Python Program to Display the multiplication Table?"
   ]
  },
  {
   "cell_type": "code",
   "execution_count": 2,
   "id": "18722f8f-ab21-4a30-b4a8-a138171ea2e3",
   "metadata": {},
   "outputs": [
    {
     "name": "stdin",
     "output_type": "stream",
     "text": [
      "Enter the number: 12\n"
     ]
    },
    {
     "name": "stdout",
     "output_type": "stream",
     "text": [
      " 12 * 1 = 12\n",
      " 12 * 2 = 24\n",
      " 12 * 3 = 36\n",
      " 12 * 4 = 48\n",
      " 12 * 5 = 60\n",
      " 12 * 6 = 72\n",
      " 12 * 7 = 84\n",
      " 12 * 8 = 96\n",
      " 12 * 9 = 108\n",
      " 12 * 10 = 120\n",
      " 12 * 11 = 132\n",
      " 12 * 12 = 144\n"
     ]
    }
   ],
   "source": [
    "n = int(input('Enter the number:'))\n",
    "for i in range(n):\n",
    "    prod = n * (i+1)\n",
    "    print(f' {n} * {i+1} = {prod}')"
   ]
  },
  {
   "cell_type": "markdown",
   "id": "325439be-8180-4fbd-8803-3a2e83611993",
   "metadata": {},
   "source": [
    "3. Write a Python Program to Print the Fibonacci sequence?\n"
   ]
  },
  {
   "cell_type": "code",
   "execution_count": 3,
   "id": "00e78d27-f766-4384-95f4-9ac11bae49d0",
   "metadata": {},
   "outputs": [
    {
     "name": "stdin",
     "output_type": "stream",
     "text": [
      "Enter the number: 10\n"
     ]
    },
    {
     "name": "stdout",
     "output_type": "stream",
     "text": [
      "The fibonacci series of 10 is [0, 1, 1, 2, 3, 5, 8, 13, 21, 34].\n"
     ]
    }
   ],
   "source": [
    "n = int(input('Enter the number:'))\n",
    "\n",
    "a = 0\n",
    "b = 1\n",
    "fibo_list = []\n",
    "\n",
    "if n ==0 :\n",
    "    c = 0\n",
    "    fibo_list = [0]\n",
    "elif n ==1:\n",
    "    c = 1\n",
    "    fibo_list = [0,1]\n",
    "else:\n",
    "    fibo_list = [0,1]\n",
    "    for i in range(2,n):\n",
    "        c = a+b\n",
    "        a = b\n",
    "        b = c\n",
    "        fibo_list.append(c)    \n",
    "print(f'The fibonacci series of {n} is {fibo_list}.')\n",
    "          \n"
   ]
  },
  {
   "cell_type": "markdown",
   "id": "731ae8d2-f8c0-40b1-b2b4-f0748c817b15",
   "metadata": {},
   "source": [
    "4. Write a Python Program to Check Armstrong Number?"
   ]
  },
  {
   "cell_type": "code",
   "execution_count": 4,
   "id": "759c24b7-ae19-4b66-b917-4b57225c808d",
   "metadata": {},
   "outputs": [
    {
     "name": "stdin",
     "output_type": "stream",
     "text": [
      "Enter a number 371\n"
     ]
    },
    {
     "name": "stdout",
     "output_type": "stream",
     "text": [
      "371 is an armstrong number.\n"
     ]
    }
   ],
   "source": [
    "n = int(input('Enter a number'))\n",
    "\n",
    "total = 0\n",
    "for i in str(n):\n",
    "    total = total + int(i)**3\n",
    "\n",
    "if n==total:\n",
    "    print(f'{n} is an armstrong number.')\n",
    "else:\n",
    "    print(f'{n} is not an armstrong number.')\n"
   ]
  },
  {
   "cell_type": "markdown",
   "id": "4268b33d-839a-468b-afa8-2c0730c13d81",
   "metadata": {},
   "source": [
    "5. Write a Python Program to Find Armstrong Number in an Interval?"
   ]
  },
  {
   "cell_type": "code",
   "execution_count": 5,
   "id": "0969091f-a329-46b1-b20c-bcd0e382f8ce",
   "metadata": {},
   "outputs": [
    {
     "name": "stdin",
     "output_type": "stream",
     "text": [
      "Enter the start range 1\n",
      "Enter the end range 500\n"
     ]
    },
    {
     "name": "stdout",
     "output_type": "stream",
     "text": [
      "The armstrong number from 1 to 500 is : [1, 153, 370, 371, 407]\n"
     ]
    }
   ],
   "source": [
    "a = int(input('Enter the start range'))\n",
    "b = int(input('Enter the end range'))\n",
    "armstrong_list = []\n",
    "for n in range(a,b):\n",
    "    total = 0\n",
    "    for i in str(n):\n",
    "        total = total + int(i)**3\n",
    "\n",
    "    if n==total:\n",
    "        armstrong_list.append(n)\n",
    "print(f'The armstrong number from {a} to {b} is : {armstrong_list}')"
   ]
  },
  {
   "cell_type": "markdown",
   "id": "b4af043c-71f8-411c-871b-798b3dc07ed4",
   "metadata": {},
   "source": [
    "6. Write a Python Program to Find the Sum of Natural Numbers?"
   ]
  },
  {
   "cell_type": "code",
   "execution_count": 6,
   "id": "89157991-ae09-4e14-9d18-5504c0f0189c",
   "metadata": {},
   "outputs": [
    {
     "name": "stdin",
     "output_type": "stream",
     "text": [
      "Enter a number 10\n"
     ]
    },
    {
     "name": "stdout",
     "output_type": "stream",
     "text": [
      "The sum of first 10 number is 55.\n"
     ]
    }
   ],
   "source": [
    "n = int(input('Enter a number'))\n",
    "\n",
    "total = 0\n",
    "for i in range(n+1):\n",
    "    total = total + i\n",
    "\n",
    "\n",
    "print(f'The sum of first {n} number is {total}.')\n"
   ]
  },
  {
   "cell_type": "code",
   "execution_count": null,
   "id": "8d94cc9c-364d-497d-97d9-417e395c6537",
   "metadata": {},
   "outputs": [],
   "source": []
  }
 ],
 "metadata": {
  "kernelspec": {
   "display_name": "Python 3 (ipykernel)",
   "language": "python",
   "name": "python3"
  },
  "language_info": {
   "codemirror_mode": {
    "name": "ipython",
    "version": 3
   },
   "file_extension": ".py",
   "mimetype": "text/x-python",
   "name": "python",
   "nbconvert_exporter": "python",
   "pygments_lexer": "ipython3",
   "version": "3.10.6"
  }
 },
 "nbformat": 4,
 "nbformat_minor": 5
}
