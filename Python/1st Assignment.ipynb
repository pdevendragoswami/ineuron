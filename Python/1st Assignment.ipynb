{
 "cells": [
  {
   "cell_type": "raw",
   "id": "29dec9df-d5b0-4e0f-ba8a-fe5ed5893e82",
   "metadata": {},
   "source": [
    "1. In the below elements which of them are values or an expression? eg:- values can be integer or string and  expressions will be mathematical operators.\n",
    "\n",
    " *                    expression - multiplication\n",
    " \n",
    " 'hello'              value - string\n",
    " \n",
    " 87.8                 value - float\n",
    " \n",
    " -                    expression - substraction\n",
    " \n",
    " /                    expression - division\n",
    " \n",
    " +                    expression - addition\n",
    " \n",
    " 6                    value - integer"
   ]
  },
  {
   "cell_type": "markdown",
   "id": "c709e11f-b261-4abf-8734-c02428ca9a02",
   "metadata": {},
   "source": [
    "2. What is the difference between string and variable?\n",
    "\n",
    "Ans:\n",
    "\n",
    "- Variable is a placeholder which is used to store a value or data While String is a sequence of character surrounded by quotient mark.\n",
    "\n",
    "- Variable is used to to store a datatype while String is itself a datatype.\n",
    "\n",
    "- The value of vaiable can be updated once its assigned but we can't update the value of string once its assigned.\n",
    "\n",
    "- Variable name can't contains any special character but a string can contain.\n"
   ]
  },
  {
   "cell_type": "markdown",
   "id": "b41ac313-3ef0-4c8f-ab0d-136d59f1bff0",
   "metadata": {},
   "source": [
    "3. Describe three different data types.\n",
    "\n",
    "Ans:\n",
    "\n",
    "- There are 3 primitive data types.\n",
    " - Numeric :-  Numeric data type contains integer,float and complex number.\n",
    "    eg : 23,44.23, 2+4j\n",
    " - String  :-  String is a sequence of character surrounded by quotient mark.\n",
    "    eg : \"Hello\"\n",
    " - boolean :-  boolean data type contains 2 values,which is False - 0 and True - 1.\n",
    "    eg : True - 1 , False - 0\n",
    " "
   ]
  },
  {
   "cell_type": "markdown",
   "id": "994e51eb-ed8a-4f89-8936-f4282fc5bc60",
   "metadata": {},
   "source": [
    "4. What is an expression made up of? What do all expressions do?\n",
    "\n",
    "Ans:\n",
    "\n",
    "- An expession is way to representing values or variable i.e. It is combination of operators and operands that is interpreted to produce some results.\n",
    "- x= 3 , x = x+3 is an expression.\n",
    "- There are multiple expressions in python bases on condition.\n",
    "  - An expression that contains only constant values are known as a constant expression. for eg x = 2 + 3\n",
    "  - An expression which is combination of operators, operands, and sometimes parenthesis is known as an arithmetic expression. for eg x = 3, y = 3, add = x+y\n",
    "  - An integral expression is used to produce only integer results after computations and type conversion (float to integer, a string to integer, etc.). for eg a = 13, b = 12.0, c = a + int(b)\n",
    "  - A floating expression is used tp produce only float results after computations and type conversion (integer to float, a string to float, etc.). for eg a = 13, b = 5, c = a / b\n",
    "  - A relational expression can be considered as a combination of two or more arithmetic expressions joined using relational operators. for eg a = 1,b = 2, c = 4, p = (a + b) >= c\n",
    "  - A logical expression performs the logical computation and the overall expression results in either True or False (boolean result).for eg a = 1, b = 2, a==b\n",
    "  - The expression in which the operation or computation is performed at the bit level is known as a bitwise expression in Python.\n",
    "  - A combination expression can contain a single or multiple expressions which result in an integer or boolean value depending upon the expressions involved."
   ]
  },
  {
   "cell_type": "markdown",
   "id": "f13a8112-ee75-4949-9fc3-95100d2c7e5a",
   "metadata": {},
   "source": [
    "5. This assignment statements, like spam = 10. What is the difference between an expression and a statement?\n",
    "\n",
    "Ans:\n",
    "\n",
    "- Statments are basically nothing but the lines of code that to be executed.It can a single line statment,multi line statment, if else statement, for/while loop statement etc. While an expession is way to representing values or variable i.e. It is combination of operators and operands that is interpreted to produce some results.\n",
    "- A statement in Python is not evaluated for some results but An expression is evaluated for some results.\n",
    "- A statement can be an expression butAn expression is not a statement.\n",
    "- for eg. x = 3. is a statment while x= 3 , x = x+3 is an expression."
   ]
  },
  {
   "cell_type": "markdown",
   "id": "2d3b1d62-8564-49f0-b521-e974097602a2",
   "metadata": {},
   "source": [
    "6. After running the following code, what does the variable bacon contain?\n",
    "- bacon = 22\n",
    "- bacon + 1\n",
    "\n",
    "Ans:\n",
    "\n",
    "- The value of bacon will be 22 as we are just adding 1 to bacon variable.\n",
    "- but the same value neither we are not saving or assigning anywhere to variable."
   ]
  },
  {
   "cell_type": "code",
   "execution_count": 7,
   "id": "5c427e34-5cf1-492e-88fc-5287868a039d",
   "metadata": {},
   "outputs": [
    {
     "name": "stdout",
     "output_type": "stream",
     "text": [
      "22\n"
     ]
    }
   ],
   "source": [
    "bacon = 22\n",
    "bacon + 1\n",
    "print(bacon)"
   ]
  },
  {
   "cell_type": "markdown",
   "id": "af965f48-e4ba-4de5-a416-79aa6d2d40ec",
   "metadata": {},
   "source": [
    "7. What should the values of the following two terms be?\n",
    "- 'spam'+ 'spamspam'\n",
    "- 'spam' * 3\n",
    "\n",
    "Ans: \n",
    "\n",
    "- In first expression, we are concatenating two string and output wil be :\n",
    "  - 'spamspamspam'\n",
    "  \n",
    "- In second expression, we are replicating the string with 3 and output wil be:\n",
    "  - spamspamspam'\n",
    "    "
   ]
  },
  {
   "cell_type": "code",
   "execution_count": 3,
   "id": "279e4f01-a238-4ea8-94df-fb5fd1bc545b",
   "metadata": {},
   "outputs": [
    {
     "data": {
      "text/plain": [
       "'spamspamspam'"
      ]
     },
     "execution_count": 3,
     "metadata": {},
     "output_type": "execute_result"
    }
   ],
   "source": [
    "'spam'+ 'spamspam'"
   ]
  },
  {
   "cell_type": "code",
   "execution_count": 4,
   "id": "b327515a-d368-4f7c-989f-3f0ea5f3422c",
   "metadata": {},
   "outputs": [
    {
     "data": {
      "text/plain": [
       "'spamspamspam'"
      ]
     },
     "execution_count": 4,
     "metadata": {},
     "output_type": "execute_result"
    }
   ],
   "source": [
    "'spam' * 3"
   ]
  },
  {
   "cell_type": "markdown",
   "id": "a11147f6-8a88-4ef0-97a4-d6d8f54cb4a2",
   "metadata": {},
   "source": [
    "8. Why is eggs a valid variable name while 100 is invalid?\n",
    "\n",
    "ans:-\n",
    "\n",
    "- Since variable name can't starts with numbers, therefore 100 is invalid as it a numeric value.\n",
    "- As eggs is just a name for a variable. Neither it is keyword or nor it start with numeric value.\n",
    "- Also it doesn't contain any special character, therefore it is a valid variable name."
   ]
  },
  {
   "cell_type": "markdown",
   "id": "7f27fec9-143e-48ef-b3fc-8f36fd434441",
   "metadata": {},
   "source": [
    "9. What three functions can be used to get the integer, floating-point number, or string version of a value?\n",
    "\n",
    "Ans : \n",
    "\n",
    "- To get string version of value, we use the input function. for eg :\n",
    "  - string_input  = input(\"Enter the string value : \")\n",
    "- To get integer version of value, we use the input function alongwith int function. for eg :\n",
    "  - int_input  = int(input(\"Enter the integer value : \"))\n",
    "- To get flaot version of value, we use the input function alongwith function. for eg :\n",
    "  - float_input  = float(input(\"Enter the float value : \"))"
   ]
  },
  {
   "cell_type": "raw",
   "id": "88b77efc-a533-4d52-a782-63c497550ad9",
   "metadata": {},
   "source": [
    "10. Why does this expression cause an error? How can you fix it?\n",
    "'I have eaten '+ 99 +' burritos.'"
   ]
  },
  {
   "cell_type": "code",
   "execution_count": 1,
   "id": "1d78c565-3ab5-463c-9c9a-9fe4c718cf81",
   "metadata": {},
   "outputs": [
    {
     "ename": "TypeError",
     "evalue": "can only concatenate str (not \"int\") to str",
     "output_type": "error",
     "traceback": [
      "\u001b[0;31m---------------------------------------------------------------------------\u001b[0m",
      "\u001b[0;31mTypeError\u001b[0m                                 Traceback (most recent call last)",
      "Cell \u001b[0;32mIn [1], line 1\u001b[0m\n\u001b[0;32m----> 1\u001b[0m \u001b[38;5;124;43m'\u001b[39;49m\u001b[38;5;124;43mI have eaten \u001b[39;49m\u001b[38;5;124;43m'\u001b[39;49m\u001b[38;5;241;43m+\u001b[39;49m\u001b[43m \u001b[49m\u001b[38;5;241;43m99\u001b[39;49m \u001b[38;5;241m+\u001b[39m\u001b[38;5;124m'\u001b[39m\u001b[38;5;124mburritos.\u001b[39m\u001b[38;5;124m'\u001b[39m\n",
      "\u001b[0;31mTypeError\u001b[0m: can only concatenate str (not \"int\") to str"
     ]
    }
   ],
   "source": [
    "'I have eaten '+ 99 +' burritos.'"
   ]
  },
  {
   "cell_type": "markdown",
   "id": "898a3785-fc10-42f0-b249-d03036dd5dc6",
   "metadata": {},
   "source": [
    "Ans:-\n",
    "- Since we can't concatenate value of two different datatypes.\n",
    "- Here we are concatenating a string and a integer value.\n",
    "- Therefore, an error is occured.\n",
    "- To resolve this error, we must change the datatype of value and the datatype of all the values must be same."
   ]
  },
  {
   "cell_type": "code",
   "execution_count": 2,
   "id": "bf052c5c-7fca-4b56-b37a-e0d8da03b24f",
   "metadata": {},
   "outputs": [
    {
     "data": {
      "text/plain": [
       "'I have eaten 99burritos.'"
      ]
     },
     "execution_count": 2,
     "metadata": {},
     "output_type": "execute_result"
    }
   ],
   "source": [
    "'I have eaten '+ str(99) +' burritos.'"
   ]
  }
 ],
 "metadata": {
  "kernelspec": {
   "display_name": "Python 3 (ipykernel)",
   "language": "python",
   "name": "python3"
  },
  "language_info": {
   "codemirror_mode": {
    "name": "ipython",
    "version": 3
   },
   "file_extension": ".py",
   "mimetype": "text/x-python",
   "name": "python",
   "nbconvert_exporter": "python",
   "pygments_lexer": "ipython3",
   "version": "3.10.6"
  }
 },
 "nbformat": 4,
 "nbformat_minor": 5
}
