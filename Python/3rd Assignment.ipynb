{
 "cells": [
  {
   "cell_type": "markdown",
   "id": "fb0a9223-8d3a-4221-880f-a60870a93126",
   "metadata": {},
   "source": [
    "1. Why are functions advantageous to have in your programs?\n",
    "\n",
    "- We can reuse the same code of a function as we required i.e. reuseability of code.\n",
    "- We can call function anytime and anywhere and multiple times."
   ]
  },
  {
   "cell_type": "markdown",
   "id": "817bc0aa-354b-41c0-abc4-7d3f3edb6841",
   "metadata": {},
   "source": [
    "2. When does the code in a function run: when it's specified or when it's called?\n",
    "- The code in function run when the function is called(call of function).\n",
    "- To call a function,we simply use function name with parentheses."
   ]
  },
  {
   "cell_type": "markdown",
   "id": "10472d99-4e02-47d9-88c3-bc09bd627d1b",
   "metadata": {},
   "source": [
    "3. What statement creates a function?\n",
    "\n",
    "- Function is created by def keyword.\n",
    "- syntax:- \n",
    "- def func_name(parameter):\n",
    "    - #block of code"
   ]
  },
  {
   "cell_type": "markdown",
   "id": "e5b9233e-3cc9-4f62-8011-39a522fb411f",
   "metadata": {},
   "source": [
    "4. What is the difference between a function and a function call? \n",
    "- The function is a block of code that is used to perform a specific task.\n",
    "- It is defined by def keyword.\n",
    "- while a function call is used to call the function.\n",
    "- To call a function,we simply use function name with parentheses."
   ]
  },
  {
   "cell_type": "markdown",
   "id": "95b1f732-dbc0-4a78-95c1-603ad5c9bfde",
   "metadata": {},
   "source": [
    "5. How many global scopes are there in a Python program? How many local scopes?\n",
    "- There is only one global scope in python program,which is created when the program starts and is destroyed when the program ends. \n",
    "- Local scopes are created whenever a function is called or a code block (such as an if statement or loop) is executed. Each function call or code block has its own local scope."
   ]
  },
  {
   "cell_type": "markdown",
   "id": "00a6c6e9-a9e2-4ef6-bffd-426265d02327",
   "metadata": {},
   "source": [
    "6. What happens to variables in a local scope when the function call returns?\n",
    "- When a function call returns, the variables defined within the local scope are destroyed, their names become undefined. "
   ]
  },
  {
   "cell_type": "markdown",
   "id": "f3f1684a-39d9-40b9-bce2-50132ba0bcc1",
   "metadata": {},
   "source": [
    "7. What is the concept of a return value? Is it possible to have a return value in an expression?\n",
    "\n",
    "- The return keyword is used in function to return the value.\n",
    "- The datatype of value depends on the expression thst is used in return statement.\n",
    "- If there are multiple return statment then any of these will execute.\n",
    "- Yes, it is possible to have a return value in expression."
   ]
  },
  {
   "cell_type": "markdown",
   "id": "a54e66aa-07c9-459a-b03d-da2fbf2550bc",
   "metadata": {},
   "source": [
    "8. If a function does not have a return statement, what is the return value of a call to that function?\n",
    "\n",
    "- If a function does not have a return statment,then it will not return anything."
   ]
  },
  {
   "cell_type": "markdown",
   "id": "932bb0f7-dd9e-4916-b350-1186b5dda1d2",
   "metadata": {},
   "source": [
    "9. How do you make a function variable refer to the global variable?\n",
    "- To make a function variable refer to the global variable, we use the global keyword.\n",
    "- This allows you to modify the value of a global variable from within a function."
   ]
  },
  {
   "cell_type": "markdown",
   "id": "506630fa-e625-41f8-a434-f1b0c7968494",
   "metadata": {},
   "source": [
    "10. What is the data type of None?\n",
    "\n",
    "- The datatype of None is NoneType."
   ]
  },
  {
   "cell_type": "markdown",
   "id": "313b629b-305e-4719-91a7-976fc2f3f3d2",
   "metadata": {},
   "source": [
    "11. What does the sentence import areallyourpetsnamederic do?\n",
    "\n",
    "- It will import the module name 'import areallyourpetsnamederic'\n",
    "- Since python does not have the module,it will throw an error.\n",
    "- import areallyourpetsnamederic"
   ]
  },
  {
   "cell_type": "markdown",
   "id": "b53b9d8d-32ee-47e3-9b79-e3a4985fe352",
   "metadata": {},
   "source": [
    "12. If you had a bacon() feature in a spam module, what would you call it after importing spam?\n",
    " \n",
    "- import spam\n",
    "- spam.bacon()"
   ]
  },
  {
   "cell_type": "markdown",
   "id": "b6da1b16-8e27-4b28-80f8-67eb0c2bd29f",
   "metadata": {},
   "source": [
    "13. What can you do to save a programme from crashing if it encounters an error?\n",
    "\n",
    "- To save a program from crashing if it encounters an error, we use the try except block."
   ]
  },
  {
   "cell_type": "markdown",
   "id": "102e57c6-82e8-4d4c-8105-953503906190",
   "metadata": {},
   "source": [
    "14. What is the purpose of the try clause? What is the purpose of the except clause?\n",
    "\n",
    "- In try clause, we write the code that has to executed.\n",
    "- If there is any exception then it will stop the execution of current program.\n",
    "- The purpose of except clause is execute the code in except block if exception occurs in try block.\n",
    "- It is basically used to catch the exception of try block code."
   ]
  },
  {
   "cell_type": "code",
   "execution_count": null,
   "id": "443d28a5-32f6-4cbb-a4c1-bff06c28ecd6",
   "metadata": {},
   "outputs": [],
   "source": []
  }
 ],
 "metadata": {
  "kernelspec": {
   "display_name": "Python 3 (ipykernel)",
   "language": "python",
   "name": "python3"
  },
  "language_info": {
   "codemirror_mode": {
    "name": "ipython",
    "version": 3
   },
   "file_extension": ".py",
   "mimetype": "text/x-python",
   "name": "python",
   "nbconvert_exporter": "python",
   "pygments_lexer": "ipython3",
   "version": "3.10.6"
  }
 },
 "nbformat": 4,
 "nbformat_minor": 5
}
