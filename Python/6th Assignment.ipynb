{
 "cells": [
  {
   "cell_type": "markdown",
   "id": "4b600aec-d883-4d56-8c3f-411cd63f6327",
   "metadata": {},
   "source": [
    "1. What are escape characters, and how do you use them?\n",
    "- Escape characters are special characters that is used to represent certain character.\n",
    "- It is represent by '\\'.\n",
    "- There are few escape character:\n",
    "- '\\n' - new line, '\\\\' - backslash, '\\t' - tab\n"
   ]
  },
  {
   "cell_type": "markdown",
   "id": "ce31428c-a7ee-434a-b867-a70665f78893",
   "metadata": {},
   "source": [
    "2. What do the escape characters n and t stand for?\n",
    "- The escape character n is used to shift to new line.\n",
    "- The escape character t is used to give space of a tab (4 time space)."
   ]
  },
  {
   "cell_type": "markdown",
   "id": "2d21264b-4b59-473e-9413-187fa864201c",
   "metadata": {},
   "source": [
    "3. What is the way to include backslash characters in a string?"
   ]
  },
  {
   "cell_type": "code",
   "execution_count": 1,
   "id": "7e59d3f5-0b4e-44c1-9301-1da1d8feb076",
   "metadata": {},
   "outputs": [
    {
     "name": "stdout",
     "output_type": "stream",
     "text": [
      "This is way to include \\ in a string.\n"
     ]
    }
   ],
   "source": [
    "print(\"This is way to include \\ in a string.\")"
   ]
  },
  {
   "cell_type": "code",
   "execution_count": 2,
   "id": "2478e5e2-53e3-4e42-a8d6-6970ad137b93",
   "metadata": {},
   "outputs": [
    {
     "name": "stdout",
     "output_type": "stream",
     "text": [
      "This is second way to include \\ in a string.\n"
     ]
    }
   ],
   "source": [
    "print(\"This is second way to include \\\\ in a string.\")"
   ]
  },
  {
   "cell_type": "code",
   "execution_count": 3,
   "id": "4d4c7e47-e6b2-47c2-80d8-7c2a98606fd6",
   "metadata": {},
   "outputs": [
    {
     "name": "stdout",
     "output_type": "stream",
     "text": [
      "This is another way to include \\ in a string.\n"
     ]
    }
   ],
   "source": [
    "print(r\"This is another way to include \\ in a string.\")"
   ]
  },
  {
   "cell_type": "markdown",
   "id": "4421ec3c-a17e-43b0-b8d0-91a0d3df7d95",
   "metadata": {},
   "source": [
    "4. The string \"Howl's Moving Castle\" is a correct value. Why isn't the single quote character in the word Howl's not escaped a problem?\n",
    "- Since the string is written in double quotes,therefore it is a correct value.\n",
    "- We can write single quotes in double quotes and vice-versa.\n"
   ]
  },
  {
   "cell_type": "markdown",
   "id": "39ab60a8-5ab7-469a-b66f-b478650ae0ed",
   "metadata": {},
   "source": [
    "5. How do you write a string of newlines if you don't want to use the n character?\n",
    "- To write a string with newline without using '\\n', we can use print command with end='\\n'"
   ]
  },
  {
   "cell_type": "code",
   "execution_count": 4,
   "id": "6db66326-4671-4b0f-9f79-3722bb74adf1",
   "metadata": {},
   "outputs": [
    {
     "name": "stdout",
     "output_type": "stream",
     "text": [
      "Hello\n",
      "Word\n"
     ]
    }
   ],
   "source": [
    "print(\"Hello\",end = '\\n')\n",
    "print(\"Word\")"
   ]
  },
  {
   "cell_type": "markdown",
   "id": "f890e5bf-e622-4792-a4c3-9a3f9085e981",
   "metadata": {},
   "source": [
    "6. What are the values of the given expressions?\n",
    "- 'Hello, world!'[1]\n",
    "- 'Hello, world!'[0:5]\n",
    "- 'Hello, world!'[:5]\n",
    "- 'Hello, world!'[3:]"
   ]
  },
  {
   "cell_type": "code",
   "execution_count": 5,
   "id": "2a9b486f-6ca8-410d-b7a8-410c32d5e94f",
   "metadata": {},
   "outputs": [
    {
     "data": {
      "text/plain": [
       "'e'"
      ]
     },
     "execution_count": 5,
     "metadata": {},
     "output_type": "execute_result"
    }
   ],
   "source": [
    "'Hello, world!'[1]\n"
   ]
  },
  {
   "cell_type": "code",
   "execution_count": 6,
   "id": "75d85d8c-5f65-4da6-ae98-3f7a58ae527f",
   "metadata": {},
   "outputs": [
    {
     "data": {
      "text/plain": [
       "'Hello'"
      ]
     },
     "execution_count": 6,
     "metadata": {},
     "output_type": "execute_result"
    }
   ],
   "source": [
    "'Hello, world!'[0:5]\n"
   ]
  },
  {
   "cell_type": "code",
   "execution_count": 7,
   "id": "d4bb22b9-c6f4-41b9-94c3-9bb88e08b628",
   "metadata": {},
   "outputs": [
    {
     "data": {
      "text/plain": [
       "'Hello'"
      ]
     },
     "execution_count": 7,
     "metadata": {},
     "output_type": "execute_result"
    }
   ],
   "source": [
    "'Hello, world!'[:5]\n"
   ]
  },
  {
   "cell_type": "code",
   "execution_count": 8,
   "id": "a6dd1792-da77-4d94-927a-fd6ee899dcbf",
   "metadata": {},
   "outputs": [
    {
     "data": {
      "text/plain": [
       "'lo, world!'"
      ]
     },
     "execution_count": 8,
     "metadata": {},
     "output_type": "execute_result"
    }
   ],
   "source": [
    "'Hello, world!'[3:]"
   ]
  },
  {
   "cell_type": "markdown",
   "id": "90c34e27-819a-4220-b463-63f03e7f880e",
   "metadata": {},
   "source": [
    "7. What are the values of the following expressions?\n",
    "- 'Hello'.upper()\n",
    "- 'Hello'.upper().isupper()\n",
    "- 'Hello'.upper().lower()"
   ]
  },
  {
   "cell_type": "code",
   "execution_count": 9,
   "id": "bd4d1049-4935-43b7-88e3-28f33fc029cf",
   "metadata": {},
   "outputs": [
    {
     "data": {
      "text/plain": [
       "'HELLO'"
      ]
     },
     "execution_count": 9,
     "metadata": {},
     "output_type": "execute_result"
    }
   ],
   "source": [
    "'Hello'.upper()"
   ]
  },
  {
   "cell_type": "code",
   "execution_count": 10,
   "id": "04056fe4-aafa-40f2-a2ca-eafdda8a0efd",
   "metadata": {},
   "outputs": [
    {
     "data": {
      "text/plain": [
       "True"
      ]
     },
     "execution_count": 10,
     "metadata": {},
     "output_type": "execute_result"
    }
   ],
   "source": [
    "'Hello'.upper().isupper()"
   ]
  },
  {
   "cell_type": "code",
   "execution_count": 11,
   "id": "e4ec2b5e-a84a-4b42-86ed-2a6f42629c78",
   "metadata": {},
   "outputs": [
    {
     "data": {
      "text/plain": [
       "'hello'"
      ]
     },
     "execution_count": 11,
     "metadata": {},
     "output_type": "execute_result"
    }
   ],
   "source": [
    "'Hello'.upper().lower()"
   ]
  },
  {
   "cell_type": "markdown",
   "id": "c2db669e-d1f3-4de2-9868-ea84d913daa2",
   "metadata": {},
   "source": [
    "8. What are the values of the following expressions?\n",
    "-  'Remember, remember, the fifth of July.'.split()\n",
    "-  '-'.join('There can only one.'.split())"
   ]
  },
  {
   "cell_type": "code",
   "execution_count": 12,
   "id": "2a1353ed-e454-4b74-9f47-a87b1b7315d3",
   "metadata": {},
   "outputs": [
    {
     "data": {
      "text/plain": [
       "['Remember,', 'remember,', 'the', 'fifth', 'of', 'July.']"
      ]
     },
     "execution_count": 12,
     "metadata": {},
     "output_type": "execute_result"
    }
   ],
   "source": [
    "'Remember, remember, the fifth of July.'.split()"
   ]
  },
  {
   "cell_type": "code",
   "execution_count": 13,
   "id": "29de3542-9930-46ef-97ea-33b30b4059ac",
   "metadata": {},
   "outputs": [
    {
     "data": {
      "text/plain": [
       "'There-can-only-one.'"
      ]
     },
     "execution_count": 13,
     "metadata": {},
     "output_type": "execute_result"
    }
   ],
   "source": [
    "'-'.join('There can only one.'.split())"
   ]
  },
  {
   "cell_type": "markdown",
   "id": "2f6f7824-33d9-4e15-b52c-d1994771e98c",
   "metadata": {},
   "source": [
    "9. What are the methods for right-justifying, left-justifying, and centering a string?\n",
    "- right-justifying : rjust() method is used to adjust the string from right side.\n",
    "- left-justifying : ljust() method is used to adjust the string from left side.\n",
    "- center-justifying : center() method is used to adjust the string from center."
   ]
  },
  {
   "cell_type": "code",
   "execution_count": 14,
   "id": "fc4fc697-35ef-4778-ac58-df288ea9b1d9",
   "metadata": {},
   "outputs": [
    {
     "data": {
      "text/plain": [
       "'******Hello'"
      ]
     },
     "execution_count": 14,
     "metadata": {},
     "output_type": "execute_result"
    }
   ],
   "source": [
    "my_str = \"Hello\"\n",
    "my_str.rjust(11,'*')"
   ]
  },
  {
   "cell_type": "code",
   "execution_count": 15,
   "id": "3b4d2d59-bc68-4d02-a137-91e783391f0f",
   "metadata": {},
   "outputs": [
    {
     "data": {
      "text/plain": [
       "'Hello******'"
      ]
     },
     "execution_count": 15,
     "metadata": {},
     "output_type": "execute_result"
    }
   ],
   "source": [
    "my_str.ljust(11,'*')"
   ]
  },
  {
   "cell_type": "code",
   "execution_count": 16,
   "id": "54856520-5467-4886-ab28-4cbf38d68469",
   "metadata": {},
   "outputs": [
    {
     "data": {
      "text/plain": [
       "'***Hello***'"
      ]
     },
     "execution_count": 16,
     "metadata": {},
     "output_type": "execute_result"
    }
   ],
   "source": [
    "my_str.center(11,'*')"
   ]
  },
  {
   "cell_type": "markdown",
   "id": "da905944-1914-4007-97e8-a9fb83a0e648",
   "metadata": {},
   "source": [
    "10. What is the best way to remove whitespace characters from the start or end?\n",
    "- strip() method is used to remove the whitespace character from a string."
   ]
  },
  {
   "cell_type": "code",
   "execution_count": 17,
   "id": "c642b289-89bd-4805-b0ce-90c1238c40c4",
   "metadata": {},
   "outputs": [
    {
     "data": {
      "text/plain": [
       "'Hello Python'"
      ]
     },
     "execution_count": 17,
     "metadata": {},
     "output_type": "execute_result"
    }
   ],
   "source": [
    "my_str = '   Hello Python   '\n",
    "my_str.strip(\" \")"
   ]
  }
 ],
 "metadata": {
  "kernelspec": {
   "display_name": "Python 3 (ipykernel)",
   "language": "python",
   "name": "python3"
  },
  "language_info": {
   "codemirror_mode": {
    "name": "ipython",
    "version": 3
   },
   "file_extension": ".py",
   "mimetype": "text/x-python",
   "name": "python",
   "nbconvert_exporter": "python",
   "pygments_lexer": "ipython3",
   "version": "3.10.6"
  }
 },
 "nbformat": 4,
 "nbformat_minor": 5
}
